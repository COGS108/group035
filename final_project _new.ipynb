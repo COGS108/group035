{
 "cells": [
  {
   "cell_type": "code",
   "execution_count": 1,
   "metadata": {},
   "outputs": [],
   "source": [
    "# Imports\n",
    "# \n",
    "# Note: these are all the imports you need for this assignment!\n",
    "# Do not import any other functions / packages\n",
    "\n",
    "# Display plots directly in the notebook instead of in a new window\n",
    "%matplotlib inline\n",
    "\n",
    "# Import libraries\n",
    "import numpy as np\n",
    "import pandas as pd\n",
    "import matplotlib.pyplot as plt\n",
    "import seaborn as sns\n",
    "\n",
    "# Statmodels & patsy\n",
    "import patsy\n",
    "import statsmodels.api as sm\n",
    "\n",
    "# map\n",
    "from shapely.geometry import Point\n",
    "import geopandas as gpd\n",
    "from geopandas import GeoDataFrame\n",
    "\n",
    "# remove warnings\n",
    "import warnings\n",
    "warnings.filterwarnings('ignore')"
   ]
  },
  {
   "cell_type": "markdown",
   "metadata": {},
   "source": [
    "## load data from global terrorism db"
   ]
  },
  {
   "cell_type": "code",
   "execution_count": null,
   "metadata": {},
   "outputs": [],
   "source": [
    "df = pd.read_excel('globalterrorismdb_0919dist.xlsx') # (191464, 135)"
   ]
  },
  {
   "cell_type": "markdown",
   "metadata": {},
   "source": [
    "### preprocess the data to select useful columns"
   ]
  },
  {
   "cell_type": "code",
   "execution_count": 4,
   "metadata": {},
   "outputs": [],
   "source": [
    "df = df[['iyear','imonth','iday','country','country_txt','region','region_txt','provstate','city','latitude','longitude','success','attacktype1','attacktype1_txt','weaptype1','weaptype1_txt','weapsubtype1','weapsubtype1_txt','suicide','targtype1','targtype1_txt','targsubtype1','targsubtype1_txt','natlty1','natlty1_txt','gname','motive','nperps','nperpcap','claimed','nkill','nkillus','nkillter','nwound','nwoundus','property','propextent','propvalue','ishostkid','nhostkid','nhostkidus','ransom','ransomamt','hostkidoutcome']]"
   ]
  },
  {
   "cell_type": "markdown",
   "metadata": {},
   "source": [
    "### plot terrorism incidents trends for overview"
   ]
  },
  {
   "cell_type": "code",
   "execution_count": 77,
   "metadata": {
    "scrolled": true
   },
   "outputs": [
    {
     "data": {
      "text/plain": [
       "array([[<matplotlib.axes._subplots.AxesSubplot object at 0x7f1f7c6d5eb8>]],\n",
       "      dtype=object)"
      ]
     },
     "execution_count": 77,
     "metadata": {},
     "output_type": "execute_result"
    },
    {
     "data": {
      "image/png": "[encoded data removed]",
      "text/plain": [
       "<Figure size 432x288 with 1 Axes>"
      ]
     },
     "metadata": {
      "needs_background": "light"
     },
     "output_type": "display_data"
    }
   ],
   "source": [
    "df[['iyear']].hist(bins=25)"
   ]
  },
  {
   "cell_type": "markdown",
   "metadata": {},
   "source": [
    "#### process nationality/country to dictionary "
   ]
  },
  {
   "cell_type": "code",
   "execution_count": 6,
   "metadata": {},
   "outputs": [],
   "source": [
    "nationality_codes = []\n",
    "nationality_txt = []\n",
    "\n",
    "filepath = 'nationality_dict.txt'\n",
    "f = open(filepath, \"r\", encoding='utf-8-sig')\n",
    "for x in f:\n",
    "    tmp_list = x.split('=')\n",
    "    tmp_code = int(tmp_list[0].strip())\n",
    "    tmp_txt = tmp_list[1].strip()\n",
    "    nationality_codes.append(tmp_code)\n",
    "    nationality_txt.append(tmp_txt)\n",
    "f.close()\n",
    "\n",
    "nationality_dict = dict(zip(nationality_codes, nationality_txt))\n",
    "nationality_map_tmp = range(225)\n",
    "nationality_idx_map_dict = dict(zip(nationality_map_tmp, nationality_codes)) "
   ]
  },
  {
   "cell_type": "code",
   "execution_count": 7,
   "metadata": {},
   "outputs": [],
   "source": [
    "import copy\n",
    "country_dict = copy.deepcopy(nationality_dict)\n",
    "country_code = copy.deepcopy(nationality_codes)\n",
    "\n",
    "# delete only countries that only appear as target/victim descriptors in the GTD.\n",
    "to_del_countries_key_list = [24, 79, 114, 125, 126, 134, 152, 163, 169, 192, 206, 212, 216, 225, 233, 238, 334, 351, 520, 999, ]\n",
    "for i in to_del_countries_key_list: \n",
    "    del country_dict[i]\n",
    "    country_code.remove(i)"
   ]
  },
  {
   "cell_type": "markdown",
   "metadata": {},
   "source": [
    "## get country data from World Bank (GDP,Population,...) called country_data_df"
   ]
  },
  {
   "cell_type": "code",
   "execution_count": 109,
   "metadata": {},
   "outputs": [
    {
     "data": {
      "text/plain": [
       "(9338, 53)"
      ]
     },
     "execution_count": 109,
     "metadata": {},
     "output_type": "execute_result"
    }
   ],
   "source": [
    "country_data_df = pd.read_csv('country_data.csv')\n",
    "country_data_df.shape"
   ]
  },
  {
   "cell_type": "markdown",
   "metadata": {},
   "source": [
    "### data clean country_data_df"
   ]
  },
  {
   "cell_type": "markdown",
   "metadata": {},
   "source": [
    "#### drop useless columns and rename columns "
   ]
  },
  {
   "cell_type": "code",
   "execution_count": 112,
   "metadata": {},
   "outputs": [],
   "source": [
    "country_data_df.drop(['Series Code','Country Code'], axis=1, inplace=True)"
   ]
  },
  {
   "cell_type": "code",
   "execution_count": 113,
   "metadata": {},
   "outputs": [],
   "source": [
    "new_col_2 = list(range(1970, 2019))\n",
    "for i in range(0, len(new_col_2)): \n",
    "    new_col_2[i] = str(new_col_2[i]) \n",
    "new_col_1 = ['type', 'country']\n",
    "new_col = new_col_1 + new_col_2\n",
    "country_data_df.columns = new_col"
   ]
  },
  {
   "cell_type": "code",
   "execution_count": 123,
   "metadata": {},
   "outputs": [],
   "source": [
    "country_data_df = country_data_df[country_data_df['country'].notnull()]"
   ]
  },
  {
   "cell_type": "markdown",
   "metadata": {},
   "source": [
    "#### rename some of the country names of country_data_df to be consistent with df"
   ]
  },
  {
   "cell_type": "code",
   "execution_count": 125,
   "metadata": {},
   "outputs": [
    {
     "name": "stderr",
     "output_type": "stream",
     "text": [
      "/opt/conda/lib/python3.7/site-packages/pandas/core/generic.py:6786: SettingWithCopyWarning: \n",
      "A value is trying to be set on a copy of a slice from a DataFrame\n",
      "\n",
      "See the caveats in the documentation: http://pandas.pydata.org/pandas-docs/stable/user_guide/indexing.html#returning-a-view-versus-a-copy\n",
      "  self._update_inplace(new_data)\n"
     ]
    }
   ],
   "source": [
    "# replace left with right \n",
    "# Bahamas, The;Bahamas\n",
    "# Bosnia and Herzegovina;Bosnia-Herzegovina\n",
    "# Brunei Darussalam;Brunei\n",
    "# Congo,Rep.;Republic of the Congo\n",
    "# Egypt,Arab Rep.;Egypt\n",
    "# Gambia,The;Gambia\n",
    "# Hong Kong SAR,China;Hong Kong\n",
    "# Iran, Islamic Rep.;Iran\n",
    "# Côte d'Ivoire;Ivory Coast\n",
    "# Kyrgyz Republic;Kyrgyzstan\n",
    "# Lao PDR;Laos\n",
    "# Macao SAR,China;Macau\n",
    "# North Macedonia;Macedonia\n",
    "# Korea, Dem. People’s Rep.;North Korea\n",
    "# Russian Federation;Russia\n",
    "# Korea, Rep.;south korea\n",
    "# Eswatini;Swaziland\n",
    "# Syrian Arab Republic;Syria\n",
    "# Venezuela, RB;Venezuela\n",
    "# Yemen,Rep.;Yemen\n",
    "# Congo,Dem.Rep.;Democratic Republic of the Congo\n",
    "# Timor-Leste;East Timor\n",
    "\n",
    "country_data_df['country'].replace('Bosnia and Herzegovina','Bosnia-Herzegovina', inplace=True)\n",
    "country_data_df['country'].replace('Brunei Darussalam','Brunei', inplace=True)\n",
    "country_data_df['country'].replace('Bahamas, The','Bahamas', inplace=True)\n",
    "country_data_df['country'].replace('Congo, Rep.','Republic of the Congo', inplace=True)\n",
    "country_data_df['country'].replace('Egypt, Arab Rep.','Egypt', inplace=True)\n",
    "country_data_df['country'].replace('Gambia, The','Gambia', inplace=True)\n",
    "country_data_df['country'].replace('Hong Kong SAR, China','Hong Kong', inplace=True)\n",
    "country_data_df['country'].replace('Iran, Islamic Rep.','Iran', inplace=True)\n",
    "country_data_df['country'].replace(\"Cote d'Ivoire\",'Ivory Coast', inplace=True)\n",
    "country_data_df['country'].replace('Kyrgyz Republic','Kyrgyzstan', inplace=True)\n",
    "country_data_df['country'].replace('Lao PDR','Laos', inplace=True)\n",
    "country_data_df['country'].replace('Macao SAR, China','Macau', inplace=True)\n",
    "country_data_df['country'].replace('North Macedonia','Macedonia', inplace=True)\n",
    "country_data_df['country'].replace('Korea, Dem. People’s Rep.','North Korea', inplace=True)\n",
    "country_data_df['country'].replace('Russian Federation','Russia', inplace=True)\n",
    "country_data_df['country'].replace('Korea, Rep.','South Korea', inplace=True)\n",
    "country_data_df['country'].replace('Eswatini','Swaziland', inplace=True)\n",
    "country_data_df['country'].replace('Syrian Arab Republic','Syria', inplace=True)\n",
    "country_data_df['country'].replace('Venezuela, RB','Venezuela', inplace=True)\n",
    "country_data_df['country'].replace('Yemen, Rep.','Yemen', inplace=True)\n",
    "country_data_df['country'].replace('Congo, Dem. Rep.','Democratic Republic of the Congo', inplace=True)\n",
    "country_data_df['country'].replace('Timor-Leste','East Timor', inplace=True)"
   ]
  },
  {
   "cell_type": "markdown",
   "metadata": {},
   "source": [
    "#### standardize some contry in df  (these countries change name)"
   ]
  },
  {
   "cell_type": "code",
   "execution_count": 126,
   "metadata": {},
   "outputs": [],
   "source": [
    "# ;People's Republic of the Congo  --> same as 'Republic of the Congo'\n",
    "# ;Zaire -->  same as 'Democratic Republic of the Congo'\n",
    "# ;East Germany (GDR)/West Germany (FRG)  --> 'Germany'\n",
    "# ;South Vietnam --> 'Vietnam'\n",
    "# ;South Yemen/North Yemen --> 'Yemen'\n",
    "# ;Rhodesia --> 'Zimbabwe'\n",
    "\n",
    "df['country_txt'].replace(\"People's Republic of the Congo\",'Republic of the Congo', inplace=True)\n",
    "df['country_txt'].replace(\"Zaire\",'Democratic Republic of the Congo', inplace=True)\n",
    "df['country_txt'].replace(\"East Germany (GDR)\",'Germany', inplace=True)\n",
    "df['country_txt'].replace(\"West Germany (FRG)\",'Germany', inplace=True)\n",
    "df['country_txt'].replace(\"South Yemen\",'Yemen', inplace=True)\n",
    "df['country_txt'].replace(\"North Yemen\",'Yemen', inplace=True)\n",
    "df['country_txt'].replace(\"South Vietnam\",'Vietnam', inplace=True)\n",
    "df['country_txt'].replace(\"Rhodesia\",'Zimbabwe', inplace=True)\n",
    "df['country_txt'].replace(\"West Bank and Gaza Strip\",'West Bank and Gaza', inplace=True)"
   ]
  },
  {
   "cell_type": "markdown",
   "metadata": {},
   "source": [
    "#### select only the population data "
   ]
  },
  {
   "cell_type": "code",
   "execution_count": 127,
   "metadata": {},
   "outputs": [],
   "source": [
    "country_data_df_population = country_data_df[country_data_df['type'] == 'Population, total']"
   ]
  },
  {
   "cell_type": "code",
   "execution_count": 128,
   "metadata": {},
   "outputs": [],
   "source": [
    "# country_data_df['type'].unique()"
   ]
  },
  {
   "cell_type": "markdown",
   "metadata": {},
   "source": [
    "#### missing countries in df; + 4 countries changes over time ('Czechoslovakia', 'Serbia-Montenegro', 'Soviet Union', 'Yugoslavia')"
   ]
  },
  {
   "cell_type": "code",
   "execution_count": 129,
   "metadata": {},
   "outputs": [],
   "source": [
    "# ;Falkland Islands # missing\n",
    "# ;French Guiana # missing\n",
    "# ;Guadeloupe # missing\n",
    "# ;Martinique # missing\n",
    "# ;Taiwan # missing\n",
    "# ;Vatican City # missing\n",
    "# ;New Hebrides # missing\n",
    "# ;Western Sahara # missing \n",
    "# ;International # missing \n",
    "# ;Wallis and Futuna #missing\n",
    "missing_country = ['Falkland Islands', 'French Guiana', 'Guadeloupe', 'Martinique', 'Taiwan', 'Vatican City', 'New Hebrides', 'Western Sahara', 'International', 'Wallis and Futuna']"
   ]
  },
  {
   "cell_type": "code",
   "execution_count": 130,
   "metadata": {},
   "outputs": [],
   "source": [
    "# ;Yugoslavia --> 南斯拉夫\n",
    "# ;Czechoslovakia --> 'Czech Republic' + 'Slovak Republic'\n",
    "# Serbia;Serbia-Montenegro  --> 'Serbia' + 'Montenegro'\n",
    "# ;Soviet Union --> 'Russia' + 'Ukraine' + 'Belarus' + 'Uzbekistan' + 'Kazakhstan' + 'Georgia' + 'Azerbaijan' + 'Lithuania' + 'Moldova' + 'Latvia' + 'Kyrgyzstan' + 'Tajikistan' + 'Turkmenistan' + 'Armenia' + 'Estonia'\n",
    "changing_country = ['Czechoslovakia', 'Serbia-Montenegro', 'Soviet Union', 'Yugoslavia']"
   ]
  },
  {
   "cell_type": "code",
   "execution_count": 131,
   "metadata": {},
   "outputs": [],
   "source": [
    "need_to_drop_countries = missing_country + changing_country"
   ]
  },
  {
   "cell_type": "markdown",
   "metadata": {},
   "source": [
    "#### compare the remaining country differences in two datasets"
   ]
  },
  {
   "cell_type": "code",
   "execution_count": 132,
   "metadata": {},
   "outputs": [],
   "source": [
    "all_countries_df = set(df['country_txt'].unique())\n",
    "all_countries_country_data = set(country_data_df['country'].unique())\n",
    "country_diff = all_countries_df - all_countries_country_data"
   ]
  },
  {
   "cell_type": "code",
   "execution_count": 133,
   "metadata": {},
   "outputs": [],
   "source": [
    "for i in need_to_drop_countries:\n",
    "    country_diff.remove(i)"
   ]
  },
  {
   "cell_type": "markdown",
   "metadata": {},
   "source": [
    "#### check how many rows need to be dropped from df"
   ]
  },
  {
   "cell_type": "code",
   "execution_count": 134,
   "metadata": {},
   "outputs": [
    {
     "data": {
      "text/plain": [
       "(442, 44)"
      ]
     },
     "execution_count": 134,
     "metadata": {},
     "output_type": "execute_result"
    }
   ],
   "source": [
    "# drop these countries data   442 out of 191464, not too bad \n",
    "df[df['country_txt'].isin(need_to_drop_countries)].shape"
   ]
  },
  {
   "cell_type": "code",
   "execution_count": 135,
   "metadata": {},
   "outputs": [
    {
     "data": {
      "text/plain": [
       "(191022, 44)"
      ]
     },
     "execution_count": 135,
     "metadata": {},
     "output_type": "execute_result"
    }
   ],
   "source": [
    "# new cleaned df: df_cleaned \n",
    "df_cleaned = df[~df['country_txt'].isin(need_to_drop_countries)]\n",
    "df_cleaned.shape"
   ]
  },
  {
   "cell_type": "code",
   "execution_count": null,
   "metadata": {},
   "outputs": [],
   "source": []
  },
  {
   "cell_type": "code",
   "execution_count": null,
   "metadata": {},
   "outputs": [],
   "source": []
  },
  {
   "cell_type": "markdown",
   "metadata": {},
   "source": [
    "## data visualization "
   ]
  },
  {
   "cell_type": "markdown",
   "metadata": {},
   "source": [
    "#### fit linear regression for each country \n",
    "number of incidents = a + b * iyear"
   ]
  },
  {
   "cell_type": "code",
   "execution_count": 136,
   "metadata": {},
   "outputs": [
    {
     "data": {
      "text/plain": [
       "array([[<matplotlib.axes._subplots.AxesSubplot object at 0x7f1f7c83e3c8>]],\n",
       "      dtype=object)"
      ]
     },
     "execution_count": 136,
     "metadata": {},
     "output_type": "execute_result"
    },
    {
     "data": {
      "image/png": "[encoded data removed]",
      "text/plain": [
       "<Figure size 432x288 with 1 Axes>"
      ]
     },
     "metadata": {
      "needs_background": "light"
     },
     "output_type": "display_data"
    }
   ],
   "source": [
    "df_cleaned[df_cleaned['country_txt'] == 'United States'][['iyear']].hist(bins=25)"
   ]
  },
  {
   "cell_type": "code",
   "execution_count": null,
   "metadata": {},
   "outputs": [],
   "source": []
  },
  {
   "cell_type": "code",
   "execution_count": 145,
   "metadata": {},
   "outputs": [],
   "source": [
    "clean_country_list = list(country_data_df['country'].unique())"
   ]
  },
  {
   "cell_type": "markdown",
   "metadata": {},
   "source": [
    "#### get #incident in each country in each year "
   ]
  },
  {
   "cell_type": "code",
   "execution_count": 181,
   "metadata": {},
   "outputs": [],
   "source": [
    "# 183 * 49 list \n",
    "# each entry store #incident in each country in each year \n",
    "# res[i] correspond to ith country in clean_country_list\n",
    "incidents_res = []\n",
    "for country in clean_country_list:\n",
    "    for year in range(1970, 2019):\n",
    "        data_year = df_cleaned[df_cleaned['iyear'] == year]\n",
    "        if year == 1970:\n",
    "            incidents_res.append([])\n",
    "        incidents_res[-1].append(sum(data_year['country_txt'] == country))"
   ]
  },
  {
   "cell_type": "code",
   "execution_count": null,
   "metadata": {},
   "outputs": [],
   "source": [
    "#     plt.scatter(test1['year'], test1['number'], alpha=0.3, label='Data');\n",
    "\n",
    "    # Generate and plot the model fit line\n",
    "#     xs = np.arange(test1['year'].min(), test1['year'].max())\n",
    "#     ys = res.params[0] + res.params[1] * xs\n",
    "#     plt.plot(xs, ys, '--k', linewidth=4, label='Model')\n",
    "\n",
    "#     plt.xlabel('year')\n",
    "#     plt.ylabel('number')\n",
    "#     plt.legend(clean_country_list[i]);\n",
    "#     plt.title(country)\n",
    "    \n",
    "#     plt.cla()   "
   ]
  },
  {
   "cell_type": "markdown",
   "metadata": {},
   "source": [
    "#### compute incidents rate for each country "
   ]
  },
  {
   "cell_type": "code",
   "execution_count": 234,
   "metadata": {},
   "outputs": [],
   "source": [
    "incidents_rate = []  # 183 * 2; each element is two coefficient for each country \n",
    "                     # #incident = intercept + coefficient * iyear\n",
    "for i in range(len(incidents_res)):\n",
    "    test1 = pd.DataFrame(list(zip(list(range(1970, 2019)), incidents_res[i])), columns =['year', 'number'])\n",
    "    outcome, predictors = patsy.dmatrices('number ~ year', test1)\n",
    "    mod = sm.OLS(outcome, predictors)\n",
    "    res = mod.fit()\n",
    "    \n",
    "    incidents_rate.append([res.params[0], res.params[1]])"
   ]
  },
  {
   "cell_type": "code",
   "execution_count": 411,
   "metadata": {},
   "outputs": [],
   "source": [
    "# for i in range(len(incidents_res)):\n",
    "#     test1 = pd.DataFrame(list(zip(list(range(1970, 2019)), incidents_res[i])), columns =['year', 'number'])\n",
    "#     outcome, predictors = patsy.dmatrices('number ~ year', test1)\n",
    "#     mod = sm.OLS(outcome, predictors)\n",
    "#     res = mod.fit()\n",
    "    \n",
    "# #     ax = plt.subplot(3, 3, i + 1) # nrows, ncols, axes position\n",
    "        \n",
    "#     plt.scatter(test1['year'], test1['number'], alpha=0.3, label='Data');\n",
    "\n",
    "#     # Generate and plot the model fit line\n",
    "#     xs = np.arange(test1['year'].min(), test1['year'].max())\n",
    "#     ys = res.params[0] + res.params[1] * xs\n",
    "#     plt.plot(xs, ys, '--k', linewidth=4, label='Model')\n",
    "\n",
    "#     plt.xlabel('year')\n",
    "#     plt.ylabel(clean_country_list[i])\n",
    "#     plt.show()   "
   ]
  },
  {
   "cell_type": "markdown",
   "metadata": {},
   "source": [
    "#### use geopandas to plot the incidents rate on world map (cluster countries as 3 categories: increase, constant, decrease)"
   ]
  },
  {
   "cell_type": "code",
   "execution_count": 343,
   "metadata": {},
   "outputs": [],
   "source": [
    "world = gpd.read_file(gpd.datasets.get_path('naturalearth_lowres'))"
   ]
  },
  {
   "cell_type": "markdown",
   "metadata": {},
   "source": [
    "#### data preprocessing to geopandas world map, match countries and remove unnecessary countries"
   ]
  },
  {
   "cell_type": "code",
   "execution_count": 344,
   "metadata": {},
   "outputs": [],
   "source": [
    "world.name.replace(\"Bosnia and Herz.\", \"Bosnia-Herzegovina\", inplace=True)\n",
    "world.name.replace(\"Côte d'Ivoire\", \"Ivory Coast\", inplace=True)\n",
    "world.name.replace(\"Dem. Rep. Congo\", \"Democratic Republic of the Congo\", inplace=True)\n",
    "world.name.replace(\"Dominican Rep.\", \"Dominican Republic\", inplace=True)\n",
    "world.name.replace(\"United States of America\", \"United States\", inplace=True)\n",
    "world.name.replace(\"eSwatini\", \"Swaziland\", inplace=True)\n",
    "world.name.replace(\"Timor-Leste\", \"East Timor\", inplace=True)\n",
    "world.name.replace(\"Central African Rep.\", \"Central African Republic\", inplace=True)\n",
    "world.name.replace(\"Slovakia\", \"Slovak Republic\", inplace=True)\n",
    "world.name.replace(\"S. Sudan\", \"South Sudan\", inplace=True)\n",
    "world.name.replace(\"Solomon Is.\", \"Solomon Islands\", inplace=True)\n",
    "world.name.replace(\"Eq. Guinea\", \"Equatorial Guinea\", inplace=True)\n",
    "world.name.replace(\"Czechia\", \"Czech Republic\", inplace=True)\n",
    "world.name.replace(\"Congo\", \"Republic of the Congo\", inplace=True)\n",
    "\n",
    "world = world[(world.pop_est>0) & (world.name!=\"Antarctica\") & (world.name!=\"Falkland Is.\") \n",
    "              & (world.name!=\"Fr. S. Antarctic Lands\")\n",
    "             & (world.name!=\"Greenland\") & (world.name!=\"Mongolia\") & (world.name!=\"N. Cyprus\")\n",
    "             & (world.name!=\"Oman\") & (world.name!=\"Palestine\") & (world.name!=\"Puerto Rico\")\n",
    "             & (world.name!=\"Somaliland\") & (world.name!=\"Taiwan\") & (world.name!=\"W. Sahara\")]"
   ]
  },
  {
   "cell_type": "code",
   "execution_count": null,
   "metadata": {},
   "outputs": [],
   "source": []
  },
  {
   "cell_type": "markdown",
   "metadata": {},
   "source": [
    "#### categorize countries into three classes"
   ]
  },
  {
   "cell_type": "code",
   "execution_count": 403,
   "metadata": {},
   "outputs": [],
   "source": [
    "# within +/- 0.01 ==> middle \n",
    "# > 0.01 ==> increase\n",
    "# < -0.01 ==> decrease\n",
    "incident_rate_3cluster = [1 if i >= 0.1 else -1 if i <= -0.1 else 0 for i in [i[1] for i in incidents_rate]]"
   ]
  },
  {
   "cell_type": "code",
   "execution_count": 390,
   "metadata": {},
   "outputs": [],
   "source": [
    "# mapping between country and class name \n",
    "cluster_country_incident_rate_key = clean_country_list\n",
    "cluster_country_incident_rate_value = incident_rate_3cluster\n",
    "clster_country_incident_rate_dict = dict(zip(cluster_country_incident_rate_key, cluster_country_incident_rate_value)) "
   ]
  },
  {
   "cell_type": "code",
   "execution_count": 391,
   "metadata": {},
   "outputs": [],
   "source": [
    "# mapping between country and incidents rate  \n",
    "country_incident_rate_key = clean_country_list\n",
    "country_incident_rate_value = [i[1] for i in incidents_rate]\n",
    "country_incident_rate_dict = dict(zip(country_incident_rate_key, country_incident_rate_value)) "
   ]
  },
  {
   "cell_type": "markdown",
   "metadata": {},
   "source": [
    "#### generate world map (red: increasing incidents; gray: flat; blue: decreasing incidents)"
   ]
  },
  {
   "cell_type": "code",
   "execution_count": 410,
   "metadata": {},
   "outputs": [
    {
     "data": {
      "image/png": "[encoded data removed]",
      "text/plain": [
       "<Figure size 936x936 with 2 Axes>"
      ]
     },
     "metadata": {
      "needs_background": "light"
     },
     "output_type": "display_data"
    }
   ],
   "source": [
    "for i in range(world.shape[0]):\n",
    "    world['incident_rate'][i] = clster_country_incident_rate_dict[world['name'][i]]\n",
    "world.plot(column='incident_rate',cmap=\"coolwarm\", legend=True,legend_kwds={'orientation': \"horizontal\"}, figsize=(13,13));"
   ]
  },
  {
   "cell_type": "code",
   "execution_count": null,
   "metadata": {},
   "outputs": [],
   "source": []
  }
 ],
 "metadata": {
  "kernelspec": {
   "display_name": "Python 3",
   "language": "python",
   "name": "python3"
  },
  "language_info": {
   "codemirror_mode": {
    "name": "ipython",
    "version": 3
   },
   "file_extension": ".py",
   "mimetype": "text/x-python",
   "name": "python",
   "nbconvert_exporter": "python",
   "pygments_lexer": "ipython3",
   "version": "3.7.3"
  }
 },
 "nbformat": 4,
 "nbformat_minor": 2
}
